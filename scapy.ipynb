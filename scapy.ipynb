{
 "cells": [
  {
   "cell_type": "code",
   "execution_count": 3,
   "id": "initial_id",
   "metadata": {
    "collapsed": true,
    "ExecuteTime": {
     "end_time": "2024-05-05T17:07:15.202072900Z",
     "start_time": "2024-05-05T17:06:31.668660500Z"
    }
   },
   "outputs": [
    {
     "name": "stdout",
     "output_type": "stream",
     "text": [
      "Collecting scapy\n",
      "  Downloading scapy-2.5.0.tar.gz (1.3 MB)\n",
      "     ---------------------------------------- 0.0/1.3 MB ? eta -:--:--\n",
      "     ---------------------------------------- 0.0/1.3 MB ? eta -:--:--\n",
      "     ---------------------------------------- 0.0/1.3 MB ? eta -:--:--\n",
      "     - -------------------------------------- 0.0/1.3 MB 219.4 kB/s eta 0:00:06\n",
      "     - -------------------------------------- 0.1/1.3 MB 297.7 kB/s eta 0:00:05\n",
      "     -- ------------------------------------- 0.1/1.3 MB 353.1 kB/s eta 0:00:04\n",
      "     ----------------- ---------------------- 0.6/1.3 MB 2.0 MB/s eta 0:00:01\n",
      "     ---------------------------------------  1.3/1.3 MB 4.2 MB/s eta 0:00:01\n",
      "     ---------------------------------------- 1.3/1.3 MB 3.9 MB/s eta 0:00:00\n",
      "  Installing build dependencies: started\n",
      "  Installing build dependencies: finished with status 'done'\n",
      "  Getting requirements to build wheel: started\n",
      "  Getting requirements to build wheel: finished with status 'done'\n",
      "  Preparing metadata (pyproject.toml): started\n",
      "  Preparing metadata (pyproject.toml): finished with status 'done'\n",
      "Building wheels for collected packages: scapy\n",
      "  Building wheel for scapy (pyproject.toml): started\n",
      "  Building wheel for scapy (pyproject.toml): finished with status 'done'\n",
      "  Created wheel for scapy: filename=scapy-2.5.0-py2.py3-none-any.whl size=1444339 sha256=a666796f633036ecda60870d3975357600e8d5ab7e71051c725dc003471efb38\n",
      "  Stored in directory: c:\\users\\csjty\\appdata\\local\\pip\\cache\\wheels\\8a\\5e\\7c\\6f92df559dadf49d0e31cecdd5b104fc8c38a7c67fde16b029\n",
      "Successfully built scapy\n",
      "Installing collected packages: scapy\n"
     ]
    },
    {
     "name": "stderr",
     "output_type": "stream",
     "text": [
      "ERROR: Could not install packages due to an OSError: [WinError 5] 액세스가 거부되었습니다: 'C:\\\\Python312\\\\share'\n",
      "Consider using the `--user` option or check the permissions.\n",
      "\n",
      "\n",
      "[notice] A new release of pip is available: 23.2.1 -> 24.0\n",
      "[notice] To update, run: python.exe -m pip install --upgrade pip\n"
     ]
    }
   ],
   "source": [
    "!pip install scapy"
   ]
  },
  {
   "cell_type": "code",
   "execution_count": 2,
   "id": "eb7ece2e282ce133",
   "metadata": {
    "ExecuteTime": {
     "end_time": "2024-05-05T17:06:17.026468800Z",
     "start_time": "2024-05-05T17:06:16.677569100Z"
    }
   },
   "outputs": [
    {
     "name": "stdout",
     "output_type": "stream",
     "text": [
      "Scapy package for Python is not installed on your system.\n"
     ]
    },
    {
     "ename": "AttributeError",
     "evalue": "'tuple' object has no attribute 'tb_frame'",
     "output_type": "error",
     "traceback": [
      "\u001B[1;31m---------------------------------------------------------------------------\u001B[0m",
      "\u001B[1;31mModuleNotFoundError\u001B[0m                       Traceback (most recent call last)",
      "Cell \u001B[1;32mIn[2], line 14\u001B[0m\n\u001B[0;32m     13\u001B[0m \u001B[38;5;28;01mtry\u001B[39;00m:\n\u001B[1;32m---> 14\u001B[0m     \u001B[38;5;28;01mfrom\u001B[39;00m \u001B[38;5;21;01mscapy\u001B[39;00m\u001B[38;5;21;01m.\u001B[39;00m\u001B[38;5;21;01mall\u001B[39;00m \u001B[38;5;28;01mimport\u001B[39;00m \u001B[38;5;241m*\u001B[39m\n\u001B[0;32m     16\u001B[0m \u001B[38;5;28;01mexcept\u001B[39;00m \u001B[38;5;167;01mImportError\u001B[39;00m:\n",
      "\u001B[1;31mModuleNotFoundError\u001B[0m: No module named 'scapy'",
      "\nDuring handling of the above exception, another exception occurred:\n",
      "\u001B[1;31mSystemExit\u001B[0m                                Traceback (most recent call last)",
      "    \u001B[1;31m[... skipping hidden 1 frame]\u001B[0m\n",
      "Cell \u001B[1;32mIn[2], line 18\u001B[0m\n\u001B[0;32m     17\u001B[0m \u001B[38;5;28mprint\u001B[39m(\u001B[38;5;124m\"\u001B[39m\u001B[38;5;124mScapy package for Python is not installed on your system.\u001B[39m\u001B[38;5;124m\"\u001B[39m)\n\u001B[1;32m---> 18\u001B[0m sys\u001B[38;5;241m.\u001B[39mexit()\n",
      "\u001B[1;31mSystemExit\u001B[0m: ",
      "\nDuring handling of the above exception, another exception occurred:\n",
      "\u001B[1;31mAttributeError\u001B[0m                            Traceback (most recent call last)",
      "    \u001B[1;31m[... skipping hidden 1 frame]\u001B[0m\n",
      "File \u001B[1;32m~\\anaconda3\\Lib\\site-packages\\IPython\\core\\interactiveshell.py:2097\u001B[0m, in \u001B[0;36mInteractiveShell.showtraceback\u001B[1;34m(self, exc_tuple, filename, tb_offset, exception_only, running_compiled_code)\u001B[0m\n\u001B[0;32m   2094\u001B[0m \u001B[38;5;28;01mif\u001B[39;00m exception_only:\n\u001B[0;32m   2095\u001B[0m     stb \u001B[38;5;241m=\u001B[39m [\u001B[38;5;124m'\u001B[39m\u001B[38;5;124mAn exception has occurred, use \u001B[39m\u001B[38;5;124m%\u001B[39m\u001B[38;5;124mtb to see \u001B[39m\u001B[38;5;124m'\u001B[39m\n\u001B[0;32m   2096\u001B[0m            \u001B[38;5;124m'\u001B[39m\u001B[38;5;124mthe full traceback.\u001B[39m\u001B[38;5;130;01m\\n\u001B[39;00m\u001B[38;5;124m'\u001B[39m]\n\u001B[1;32m-> 2097\u001B[0m     stb\u001B[38;5;241m.\u001B[39mextend(\u001B[38;5;28mself\u001B[39m\u001B[38;5;241m.\u001B[39mInteractiveTB\u001B[38;5;241m.\u001B[39mget_exception_only(etype,\n\u001B[0;32m   2098\u001B[0m                                                      value))\n\u001B[0;32m   2099\u001B[0m \u001B[38;5;28;01melse\u001B[39;00m:\n\u001B[0;32m   2101\u001B[0m     \u001B[38;5;28;01mdef\u001B[39;00m \u001B[38;5;21mcontains_exceptiongroup\u001B[39m(val):\n",
      "File \u001B[1;32m~\\anaconda3\\Lib\\site-packages\\IPython\\core\\ultratb.py:710\u001B[0m, in \u001B[0;36mListTB.get_exception_only\u001B[1;34m(self, etype, value)\u001B[0m\n\u001B[0;32m    702\u001B[0m \u001B[38;5;28;01mdef\u001B[39;00m \u001B[38;5;21mget_exception_only\u001B[39m(\u001B[38;5;28mself\u001B[39m, etype, value):\n\u001B[0;32m    703\u001B[0m \u001B[38;5;250m    \u001B[39m\u001B[38;5;124;03m\"\"\"Only print the exception type and message, without a traceback.\u001B[39;00m\n\u001B[0;32m    704\u001B[0m \n\u001B[0;32m    705\u001B[0m \u001B[38;5;124;03m    Parameters\u001B[39;00m\n\u001B[1;32m   (...)\u001B[0m\n\u001B[0;32m    708\u001B[0m \u001B[38;5;124;03m    value : exception value\u001B[39;00m\n\u001B[0;32m    709\u001B[0m \u001B[38;5;124;03m    \"\"\"\u001B[39;00m\n\u001B[1;32m--> 710\u001B[0m     \u001B[38;5;28;01mreturn\u001B[39;00m ListTB\u001B[38;5;241m.\u001B[39mstructured_traceback(\u001B[38;5;28mself\u001B[39m, etype, value)\n",
      "File \u001B[1;32m~\\anaconda3\\Lib\\site-packages\\IPython\\core\\ultratb.py:568\u001B[0m, in \u001B[0;36mListTB.structured_traceback\u001B[1;34m(self, etype, evalue, etb, tb_offset, context)\u001B[0m\n\u001B[0;32m    565\u001B[0m     chained_exc_ids\u001B[38;5;241m.\u001B[39madd(\u001B[38;5;28mid\u001B[39m(exception[\u001B[38;5;241m1\u001B[39m]))\n\u001B[0;32m    566\u001B[0m     chained_exceptions_tb_offset \u001B[38;5;241m=\u001B[39m \u001B[38;5;241m0\u001B[39m\n\u001B[0;32m    567\u001B[0m     out_list \u001B[38;5;241m=\u001B[39m (\n\u001B[1;32m--> 568\u001B[0m         \u001B[38;5;28mself\u001B[39m\u001B[38;5;241m.\u001B[39mstructured_traceback(\n\u001B[0;32m    569\u001B[0m             etype,\n\u001B[0;32m    570\u001B[0m             evalue,\n\u001B[0;32m    571\u001B[0m             (etb, chained_exc_ids),  \u001B[38;5;66;03m# type: ignore\u001B[39;00m\n\u001B[0;32m    572\u001B[0m             chained_exceptions_tb_offset,\n\u001B[0;32m    573\u001B[0m             context,\n\u001B[0;32m    574\u001B[0m         )\n\u001B[0;32m    575\u001B[0m         \u001B[38;5;241m+\u001B[39m chained_exception_message\n\u001B[0;32m    576\u001B[0m         \u001B[38;5;241m+\u001B[39m out_list)\n\u001B[0;32m    578\u001B[0m \u001B[38;5;28;01mreturn\u001B[39;00m out_list\n",
      "File \u001B[1;32m~\\anaconda3\\Lib\\site-packages\\IPython\\core\\ultratb.py:1435\u001B[0m, in \u001B[0;36mAutoFormattedTB.structured_traceback\u001B[1;34m(self, etype, evalue, etb, tb_offset, number_of_lines_of_context)\u001B[0m\n\u001B[0;32m   1433\u001B[0m \u001B[38;5;28;01melse\u001B[39;00m:\n\u001B[0;32m   1434\u001B[0m     \u001B[38;5;28mself\u001B[39m\u001B[38;5;241m.\u001B[39mtb \u001B[38;5;241m=\u001B[39m etb\n\u001B[1;32m-> 1435\u001B[0m \u001B[38;5;28;01mreturn\u001B[39;00m FormattedTB\u001B[38;5;241m.\u001B[39mstructured_traceback(\n\u001B[0;32m   1436\u001B[0m     \u001B[38;5;28mself\u001B[39m, etype, evalue, etb, tb_offset, number_of_lines_of_context\n\u001B[0;32m   1437\u001B[0m )\n",
      "File \u001B[1;32m~\\anaconda3\\Lib\\site-packages\\IPython\\core\\ultratb.py:1326\u001B[0m, in \u001B[0;36mFormattedTB.structured_traceback\u001B[1;34m(self, etype, value, tb, tb_offset, number_of_lines_of_context)\u001B[0m\n\u001B[0;32m   1323\u001B[0m mode \u001B[38;5;241m=\u001B[39m \u001B[38;5;28mself\u001B[39m\u001B[38;5;241m.\u001B[39mmode\n\u001B[0;32m   1324\u001B[0m \u001B[38;5;28;01mif\u001B[39;00m mode \u001B[38;5;129;01min\u001B[39;00m \u001B[38;5;28mself\u001B[39m\u001B[38;5;241m.\u001B[39mverbose_modes:\n\u001B[0;32m   1325\u001B[0m     \u001B[38;5;66;03m# Verbose modes need a full traceback\u001B[39;00m\n\u001B[1;32m-> 1326\u001B[0m     \u001B[38;5;28;01mreturn\u001B[39;00m VerboseTB\u001B[38;5;241m.\u001B[39mstructured_traceback(\n\u001B[0;32m   1327\u001B[0m         \u001B[38;5;28mself\u001B[39m, etype, value, tb, tb_offset, number_of_lines_of_context\n\u001B[0;32m   1328\u001B[0m     )\n\u001B[0;32m   1329\u001B[0m \u001B[38;5;28;01melif\u001B[39;00m mode \u001B[38;5;241m==\u001B[39m \u001B[38;5;124m'\u001B[39m\u001B[38;5;124mMinimal\u001B[39m\u001B[38;5;124m'\u001B[39m:\n\u001B[0;32m   1330\u001B[0m     \u001B[38;5;28;01mreturn\u001B[39;00m ListTB\u001B[38;5;241m.\u001B[39mget_exception_only(\u001B[38;5;28mself\u001B[39m, etype, value)\n",
      "File \u001B[1;32m~\\anaconda3\\Lib\\site-packages\\IPython\\core\\ultratb.py:1173\u001B[0m, in \u001B[0;36mVerboseTB.structured_traceback\u001B[1;34m(self, etype, evalue, etb, tb_offset, number_of_lines_of_context)\u001B[0m\n\u001B[0;32m   1164\u001B[0m \u001B[38;5;28;01mdef\u001B[39;00m \u001B[38;5;21mstructured_traceback\u001B[39m(\n\u001B[0;32m   1165\u001B[0m     \u001B[38;5;28mself\u001B[39m,\n\u001B[0;32m   1166\u001B[0m     etype: \u001B[38;5;28mtype\u001B[39m,\n\u001B[1;32m   (...)\u001B[0m\n\u001B[0;32m   1170\u001B[0m     number_of_lines_of_context: \u001B[38;5;28mint\u001B[39m \u001B[38;5;241m=\u001B[39m \u001B[38;5;241m5\u001B[39m,\n\u001B[0;32m   1171\u001B[0m ):\n\u001B[0;32m   1172\u001B[0m \u001B[38;5;250m    \u001B[39m\u001B[38;5;124;03m\"\"\"Return a nice text document describing the traceback.\"\"\"\u001B[39;00m\n\u001B[1;32m-> 1173\u001B[0m     formatted_exception \u001B[38;5;241m=\u001B[39m \u001B[38;5;28mself\u001B[39m\u001B[38;5;241m.\u001B[39mformat_exception_as_a_whole(etype, evalue, etb, number_of_lines_of_context,\n\u001B[0;32m   1174\u001B[0m                                                            tb_offset)\n\u001B[0;32m   1176\u001B[0m     colors \u001B[38;5;241m=\u001B[39m \u001B[38;5;28mself\u001B[39m\u001B[38;5;241m.\u001B[39mColors  \u001B[38;5;66;03m# just a shorthand + quicker name lookup\u001B[39;00m\n\u001B[0;32m   1177\u001B[0m     colorsnormal \u001B[38;5;241m=\u001B[39m colors\u001B[38;5;241m.\u001B[39mNormal  \u001B[38;5;66;03m# used a lot\u001B[39;00m\n",
      "File \u001B[1;32m~\\anaconda3\\Lib\\site-packages\\IPython\\core\\ultratb.py:1063\u001B[0m, in \u001B[0;36mVerboseTB.format_exception_as_a_whole\u001B[1;34m(self, etype, evalue, etb, number_of_lines_of_context, tb_offset)\u001B[0m\n\u001B[0;32m   1060\u001B[0m \u001B[38;5;28;01massert\u001B[39;00m \u001B[38;5;28misinstance\u001B[39m(tb_offset, \u001B[38;5;28mint\u001B[39m)\n\u001B[0;32m   1061\u001B[0m head \u001B[38;5;241m=\u001B[39m \u001B[38;5;28mself\u001B[39m\u001B[38;5;241m.\u001B[39mprepare_header(\u001B[38;5;28mstr\u001B[39m(etype), \u001B[38;5;28mself\u001B[39m\u001B[38;5;241m.\u001B[39mlong_header)\n\u001B[0;32m   1062\u001B[0m records \u001B[38;5;241m=\u001B[39m (\n\u001B[1;32m-> 1063\u001B[0m     \u001B[38;5;28mself\u001B[39m\u001B[38;5;241m.\u001B[39mget_records(etb, number_of_lines_of_context, tb_offset) \u001B[38;5;28;01mif\u001B[39;00m etb \u001B[38;5;28;01melse\u001B[39;00m []\n\u001B[0;32m   1064\u001B[0m )\n\u001B[0;32m   1066\u001B[0m frames \u001B[38;5;241m=\u001B[39m []\n\u001B[0;32m   1067\u001B[0m skipped \u001B[38;5;241m=\u001B[39m \u001B[38;5;241m0\u001B[39m\n",
      "File \u001B[1;32m~\\anaconda3\\Lib\\site-packages\\IPython\\core\\ultratb.py:1131\u001B[0m, in \u001B[0;36mVerboseTB.get_records\u001B[1;34m(self, etb, number_of_lines_of_context, tb_offset)\u001B[0m\n\u001B[0;32m   1129\u001B[0m \u001B[38;5;28;01mwhile\u001B[39;00m cf \u001B[38;5;129;01mis\u001B[39;00m \u001B[38;5;129;01mnot\u001B[39;00m \u001B[38;5;28;01mNone\u001B[39;00m:\n\u001B[0;32m   1130\u001B[0m     \u001B[38;5;28;01mtry\u001B[39;00m:\n\u001B[1;32m-> 1131\u001B[0m         mod \u001B[38;5;241m=\u001B[39m inspect\u001B[38;5;241m.\u001B[39mgetmodule(cf\u001B[38;5;241m.\u001B[39mtb_frame)\n\u001B[0;32m   1132\u001B[0m         \u001B[38;5;28;01mif\u001B[39;00m mod \u001B[38;5;129;01mis\u001B[39;00m \u001B[38;5;129;01mnot\u001B[39;00m \u001B[38;5;28;01mNone\u001B[39;00m:\n\u001B[0;32m   1133\u001B[0m             mod_name \u001B[38;5;241m=\u001B[39m mod\u001B[38;5;241m.\u001B[39m\u001B[38;5;18m__name__\u001B[39m\n",
      "\u001B[1;31mAttributeError\u001B[0m: 'tuple' object has no attribute 'tb_frame'"
     ]
    }
   ],
   "source": [
    "#Importing the necessary modules\n",
    "import logging\n",
    "from datetime import datetime\n",
    "import subprocess\n",
    "import sys\n",
    " \n",
    "#This will suppress all messages that have a lower level of seriousness than error messages, while running or loading Scapy\n",
    "logging.getLogger(\"scapy.runtime\").setLevel(logging.ERROR)\n",
    "logging.getLogger(\"scapy.interactive\").setLevel(logging.ERROR)\n",
    "logging.getLogger(\"scapy.loading\").setLevel(logging.ERROR)\n",
    " \n",
    " \n",
    "try:\n",
    "    from scapy.all import *\n",
    " \n",
    "except ImportError:\n",
    "    print(\"Scapy package for Python is not installed on your system.\")\n",
    "    sys.exit()"
   ]
  },
  {
   "cell_type": "code",
   "execution_count": null,
   "id": "aa6e6f57e02537ba",
   "metadata": {},
   "outputs": [],
   "source": []
  },
  {
   "cell_type": "code",
   "execution_count": null,
   "id": "fbc160518b430f57",
   "metadata": {},
   "outputs": [],
   "source": [
    "#Asking the user for some parameters: interface on which to sniff, the number of packets to sniff, the time interval to sniff, the protocol\n",
    " \n",
    "#Asking the user for input - the interface on which to run the sniffer\n",
    "net_iface = input(\"* Enter the interface on which to run the sniffer (e.g. 'enp0s8'): \")\n",
    " \n",
    "#Setting network interface in promiscuous mode\n",
    "'''\n",
    "Wikipedia: In computer networking, promiscuous mode or \"promisc mode\"[1] is a mode for a wired network interface controller (NIC) or wireless network interface controller (WNIC) that causes the controller to pass all traffic it receives to the central processing unit (CPU) rather than passing only the frames that the controller is intended to receive.\n",
    "This mode is normally used for packet sniffing that takes place on a router or on a computer connected to a hub.\n",
    "'''\n",
    "try:\n",
    "    subprocess.call([\"ifconfig\", net_iface, \"promisc\"], stdout = None, stderr = None, shell = False)\n",
    " \n",
    "except:\n",
    "    print(\"\\nFailed to configure interface as promiscuous.\\n\")\n",
    " \n",
    "else:\n",
    "    #Executed if the try clause does not raise an exception\n",
    "    print(\"\\nInterface %s was set to PROMISC mode.\\n\" % net_iface)\n",
    " \n",
    " \n",
    "#Asking the user for the number of packets to sniff (the \"count\" parameter)\n",
    "pkt_to_sniff = input(\"* Enter the number of packets to capture (0 is infinity): \")\n",
    " \n",
    "#Considering the case when the user enters 0 (infinity)\n",
    "if int(pkt_to_sniff) != 0:\n",
    "    print(\"\\nThe program will capture %d packets.\\n\" % int(pkt_to_sniff))\n",
    "    \n",
    "elif int(pkt_to_sniff) == 0:\n",
    "    print(\"\\nThe program will capture packets until the timeout expires.\\n\")\n",
    " \n",
    " \n",
    "#Asking the user for the time interval to sniff (the \"timeout\" parameter)\n",
    "time_to_sniff = input(\"* Enter the number of seconds to run the capture: \")\n",
    " \n",
    "#Handling the value entered by the user\n",
    "if int(time_to_sniff) != 0:\n",
    "    print(\"\\nThe program will capture packets for %d seconds.\\n\" % int(time_to_sniff))\n",
    "    \n",
    "    \n",
    "#Asking the user for any protocol filter he might want to apply to the sniffing process\n",
    "#For this example I chose three protocols: ARP, BOOTP, ICMP\n",
    "#You can customize this to add your own desired protocols\n",
    "proto_sniff = input(\"* Enter the protocol to filter by (arp|bootp|icmp|0 is all): \")\n",
    " \n",
    "#Considering the case when the user enters 0 (meaning all protocols)\n",
    "if (proto_sniff == \"arp\") or (proto_sniff == \"bootp\") or (proto_sniff == \"icmp\"):\n",
    "    print(\"\\nThe program will capture only %s packets.\\n\" % proto_sniff.upper())\n",
    "    \n",
    "elif (proto_sniff) == \"0\":\n",
    "    print(\"\\nThe program will capture all protocols.\\n\")\n",
    " \n",
    " \n",
    "#Asking the user to enter the name and path of the log file to be created\n",
    "file_name = input(\"* Please give a name to the log file: \")\n",
    " \n",
    "#Creating the text file (if it doesn't exist) for packet logging and/or opening it for appending\n",
    "sniffer_log = open(file_name, \"a\")"
   ]
  },
  {
   "cell_type": "code",
   "execution_count": null,
   "id": "29215791",
   "metadata": {},
   "outputs": [],
   "source": [
    "#This is the function that will be called for each captured packet\n",
    "#The function will extract parameters from the packet and then log each packet to the log file\n",
    "def packet_log(packet):\n",
    "    \n",
    "    #Getting the current timestamp\n",
    "    now = datetime.now()\n",
    "    \n",
    "    #Writing the packet information to the log file, also considering the protocol or 0 for all protocols\n",
    "    if proto_sniff == \"0\":\n",
    "        #Writing the data to the log file\n",
    "        print(\"Time: \" + str(now) + \" Protocol: ALL\" + \" SMAC: \" + packet[0].src + \" DMAC: \" + packet[0].dst, file = sniffer_log)\n",
    "        \n",
    "    elif (proto_sniff == \"arp\") or (proto_sniff == \"bootp\") or (proto_sniff == \"icmp\"):\n",
    "        #Writing the data to the log file\n",
    "        print(\"Time: \" + str(now) + \" Protocol: \" + proto_sniff.upper() + \" SMAC: \" + packet[0].src + \" DMAC: \" + packet[0].dst, file = sniffer_log)"
   ]
  },
  {
   "cell_type": "code",
   "execution_count": null,
   "outputs": [],
   "source": [],
   "metadata": {
    "collapsed": false
   },
   "id": "634b0f8fcbc6a2a2"
  },
  {
   "cell_type": "code",
   "execution_count": null,
   "outputs": [],
   "source": [
    "#Importing the necessary modules\n",
    "import difflib\n",
    "import datetime\n",
    "import smtplib\n",
    "from email.mime.multipart import MIMEMultipart\n",
    "from email.mime.text import MIMEText\n",
    "from netmiko import ConnectHandler\n",
    " \n",
    " \n",
    "#Defining the device to monitor\n",
    "ip = '10.10.10.2'\n",
    " \n",
    "#Defining the device type for running netmiko\n",
    "device_type = 'arista_eos'\n",
    " \n",
    "#Defining the username and password for running netmiko\n",
    "username = 'admin'\n",
    "password = 'python'\n",
    " \n",
    "#Defining the command to send to each device\n",
    "command = 'show running'"
   ],
   "metadata": {
    "collapsed": false
   },
   "id": "7fbc3b56fc1eafa9"
  }
 ],
 "metadata": {
  "kernelspec": {
   "display_name": "Python 3 (ipykernel)",
   "language": "python",
   "name": "python3"
  },
  "language_info": {
   "codemirror_mode": {
    "name": "ipython",
    "version": 3
   },
   "file_extension": ".py",
   "mimetype": "text/x-python",
   "name": "python",
   "nbconvert_exporter": "python",
   "pygments_lexer": "ipython3",
   "version": "3.11.5"
  }
 },
 "nbformat": 4,
 "nbformat_minor": 5
}
