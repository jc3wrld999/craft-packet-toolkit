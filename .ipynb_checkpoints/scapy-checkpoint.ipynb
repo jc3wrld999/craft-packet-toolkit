{
 "cells": [
  {
   "cell_type": "code",
   "execution_count": null,
   "id": "initial_id",
   "metadata": {
    "collapsed": true
   },
   "outputs": [],
   "source": []
  },
  {
   "cell_type": "code",
   "execution_count": null,
   "id": "eb7ece2e282ce133",
   "metadata": {
    "is_executing": true
   },
   "outputs": [],
   "source": [
    "#Importing the necessary modules\n",
    "import logging\n",
    "from datetime import datetime\n",
    "import subprocess\n",
    "import sys\n",
    " \n",
    "#This will suppress all messages that have a lower level of seriousness than error messages, while running or loading Scapy\n",
    "logging.getLogger(\"scapy.runtime\").setLevel(logging.ERROR)\n",
    "logging.getLogger(\"scapy.interactive\").setLevel(logging.ERROR)\n",
    "logging.getLogger(\"scapy.loading\").setLevel(logging.ERROR)\n",
    " \n",
    " \n",
    "try:\n",
    "    from scapy.all import *\n",
    " \n",
    "except ImportError:\n",
    "    print(\"Scapy package for Python is not installed on your system.\")\n",
    "    sys.exit()"
   ]
  },
  {
   "cell_type": "code",
   "execution_count": null,
   "id": "aa6e6f57e02537ba",
   "metadata": {},
   "outputs": [],
   "source": []
  },
  {
   "cell_type": "code",
   "execution_count": null,
   "id": "fbc160518b430f57",
   "metadata": {},
   "outputs": [],
   "source": [
    "#Asking the user for some parameters: interface on which to sniff, the number of packets to sniff, the time interval to sniff, the protocol\n",
    " \n",
    "#Asking the user for input - the interface on which to run the sniffer\n",
    "net_iface = input(\"* Enter the interface on which to run the sniffer (e.g. 'enp0s8'): \")\n",
    " \n",
    "#Setting network interface in promiscuous mode\n",
    "'''\n",
    "Wikipedia: In computer networking, promiscuous mode or \"promisc mode\"[1] is a mode for a wired network interface controller (NIC) or wireless network interface controller (WNIC) that causes the controller to pass all traffic it receives to the central processing unit (CPU) rather than passing only the frames that the controller is intended to receive.\n",
    "This mode is normally used for packet sniffing that takes place on a router or on a computer connected to a hub.\n",
    "'''\n",
    "try:\n",
    "    subprocess.call([\"ifconfig\", net_iface, \"promisc\"], stdout = None, stderr = None, shell = False)\n",
    " \n",
    "except:\n",
    "    print(\"\\nFailed to configure interface as promiscuous.\\n\")\n",
    " \n",
    "else:\n",
    "    #Executed if the try clause does not raise an exception\n",
    "    print(\"\\nInterface %s was set to PROMISC mode.\\n\" % net_iface)\n",
    " \n",
    " \n",
    "#Asking the user for the number of packets to sniff (the \"count\" parameter)\n",
    "pkt_to_sniff = input(\"* Enter the number of packets to capture (0 is infinity): \")\n",
    " \n",
    "#Considering the case when the user enters 0 (infinity)\n",
    "if int(pkt_to_sniff) != 0:\n",
    "    print(\"\\nThe program will capture %d packets.\\n\" % int(pkt_to_sniff))\n",
    "    \n",
    "elif int(pkt_to_sniff) == 0:\n",
    "    print(\"\\nThe program will capture packets until the timeout expires.\\n\")\n",
    " \n",
    " \n",
    "#Asking the user for the time interval to sniff (the \"timeout\" parameter)\n",
    "time_to_sniff = input(\"* Enter the number of seconds to run the capture: \")\n",
    " \n",
    "#Handling the value entered by the user\n",
    "if int(time_to_sniff) != 0:\n",
    "    print(\"\\nThe program will capture packets for %d seconds.\\n\" % int(time_to_sniff))\n",
    "    \n",
    "    \n",
    "#Asking the user for any protocol filter he might want to apply to the sniffing process\n",
    "#For this example I chose three protocols: ARP, BOOTP, ICMP\n",
    "#You can customize this to add your own desired protocols\n",
    "proto_sniff = input(\"* Enter the protocol to filter by (arp|bootp|icmp|0 is all): \")\n",
    " \n",
    "#Considering the case when the user enters 0 (meaning all protocols)\n",
    "if (proto_sniff == \"arp\") or (proto_sniff == \"bootp\") or (proto_sniff == \"icmp\"):\n",
    "    print(\"\\nThe program will capture only %s packets.\\n\" % proto_sniff.upper())\n",
    "    \n",
    "elif (proto_sniff) == \"0\":\n",
    "    print(\"\\nThe program will capture all protocols.\\n\")\n",
    " \n",
    " \n",
    "#Asking the user to enter the name and path of the log file to be created\n",
    "file_name = input(\"* Please give a name to the log file: \")\n",
    " \n",
    "#Creating the text file (if it doesn't exist) for packet logging and/or opening it for appending\n",
    "sniffer_log = open(file_name, \"a\")"
   ]
  }
 ],
 "metadata": {
  "kernelspec": {
   "display_name": "Python 3 (ipykernel)",
   "language": "python",
   "name": "python3"
  },
  "language_info": {
   "codemirror_mode": {
    "name": "ipython",
    "version": 3
   },
   "file_extension": ".py",
   "mimetype": "text/x-python",
   "name": "python",
   "nbconvert_exporter": "python",
   "pygments_lexer": "ipython3",
   "version": "3.11.5"
  }
 },
 "nbformat": 4,
 "nbformat_minor": 5
}
